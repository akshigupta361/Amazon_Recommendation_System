{
 "cells": [
  {
   "cell_type": "code",
   "execution_count": null,
   "metadata": {},
   "outputs": [],
   "source": [
    "#Importing Libraries\n",
    "import numpy as np\n",
    "import pandas as pd\n",
    "import matplotlib.pyplot as plt\n",
    "from pandas import DataFrame \n",
    "import nltk\n",
    "\n",
    "from sklearn.neighbors import NearestNeighbors\n",
    "from sklearn.linear_model import LogisticRegression\n",
    "from sklearn import neighbors\n",
    "from scipy.spatial.distance import cosine\n",
    "from sklearn.metrics import classification_report\n",
    "from sklearn.metrics import accuracy_score\n",
    "from sklearn.feature_selection import SelectKBest\n",
    "from sklearn.feature_extraction.text import CountVectorizer, TfidfTransformer\n",
    "\n",
    "import re\n",
    "import string\n",
    "from wordcloud import WordCloud, STOPWORDS\n",
    "from sklearn.metrics import mean_squared_error"
   ]
  },
  {
   "cell_type": "code",
   "execution_count": null,
   "metadata": {},
   "outputs": [],
   "source": [
    "#Reading dataset\n",
    "df = pd.read_csv(\"C:/Users/MY LENOVO/Desktop/Amazon_product_recommendation_system/dataset.csv\")"
   ]
  },
  {
   "cell_type": "code",
   "execution_count": null,
   "metadata": {},
   "outputs": [],
   "source": [
    "#Analyzing\n",
    "print(df.columns)\n",
    "print(df.shape)"
   ]
  },
  {
   "cell_type": "code",
   "execution_count": null,
   "metadata": {},
   "outputs": [],
   "source": [
    "count = df.groupby(\"ProductId\", as_index=False).count()\n",
    "mean = df.groupby(\"ProductId\", as_index=False).mean()"
   ]
  },
  {
   "cell_type": "code",
   "execution_count": null,
   "metadata": {},
   "outputs": [],
   "source": [
    "dfMerged = pd.merge(df, count, how='right', on=['ProductId'])\n",
    "dfMerged"
   ]
  },
  {
   "cell_type": "code",
   "execution_count": null,
   "metadata": {},
   "outputs": [],
   "source": [
    "dfMerged[\"totalReviewers\"] = dfMerged[\"UserId_y\"]\n",
    "dfMerged[\"overallScore\"] = dfMerged[\"Score_x\"]\n",
    "dfMerged[\"summaryReview\"] = dfMerged[\"Summary_x\"]"
   ]
  },
  {
   "cell_type": "code",
   "execution_count": null,
   "metadata": {},
   "outputs": [],
   "source": [
    "dfNew = dfMerged[['ProductId','summaryReview','overallScore',\"totalReviewers\"]]"
   ]
  },
  {
   "cell_type": "code",
   "execution_count": null,
   "metadata": {},
   "outputs": [],
   "source": [
    "dfMerged = dfMerged.sort_values(by='totalReviewers', ascending=False)\n",
    "dfCount = dfMerged[dfMerged.totalReviewers >= 100]\n",
    "dfCount"
   ]
  },
  {
   "cell_type": "code",
   "execution_count": null,
   "metadata": {},
   "outputs": [],
   "source": [
    "dfProductReview = df.groupby(\"ProductId\", as_index=False).mean()\n",
    "ProductReviewSummary = dfCount.groupby(\"ProductId\")[\"summaryReview\"].apply(list)\n",
    "ProductReviewSummary = pd.DataFrame(ProductReviewSummary)\n",
    "ProductReviewSummary.to_csv(\"C:/Users/MY LENOVO/Desktop/Amazon_product_recommendation_system/ProductReview.csv\")"
   ]
  },
  {
   "cell_type": "code",
   "execution_count": null,
   "metadata": {},
   "outputs": [],
   "source": [
    "dfProductReview"
   ]
  },
  {
   "cell_type": "code",
   "execution_count": null,
   "metadata": {},
   "outputs": [],
   "source": [
    "df3 = pd.read_csv(\"C:/Users/MY LENOVO/Desktop/Amazon_product_recommendation_system/ProductSummary.csv\")\n",
    "df3 = pd.merge(df3, dfProductReview, on=\"ProductId\", how='inner')"
   ]
  },
  {
   "cell_type": "code",
   "execution_count": null,
   "metadata": {},
   "outputs": [],
   "source": [
    "df3 = df3[['ProductId','summaryReview','Score']]"
   ]
  },
  {
   "cell_type": "code",
   "execution_count": null,
   "metadata": {},
   "outputs": [],
   "source": [
    "regEx = re.compile('[^a-z]+')\n",
    "def cleanReviews(Text):\n",
    "    Text = Text.lower()\n",
    "    Text = regEx.sub(' ', Text).strip()\n",
    "    return Text"
   ]
  },
  {
   "cell_type": "code",
   "execution_count": null,
   "metadata": {},
   "outputs": [],
   "source": [
    "df3[\"summaryClean\"] = df3[\"summaryReview\"].apply(cleanReviews)\n",
    "df3 = df3.drop_duplicates(['Score'], keep='last')\n",
    "df3 = df3.reset_index()"
   ]
  },
  {
   "cell_type": "code",
   "execution_count": null,
   "metadata": {},
   "outputs": [],
   "source": [
    "iews = df3[\"summaryClean\"] \n",
    "countVector = CountVectorizer(max_features = 300, stop_words='english') \n",
    "transformedReviews = countVector.fit_transform(reviews) "
   ]
  },
  {
   "cell_type": "code",
   "execution_count": null,
   "metadata": {},
   "outputs": [],
   "source": [
    "dfReviews = DataFrame(transformedReviews.A, columns=countVector.get_feature_names())\n",
    "dfReviews = dfReviews.astype(int)"
   ]
  },
  {
   "cell_type": "code",
   "execution_count": null,
   "metadata": {},
   "outputs": [],
   "source": [
    "dfReviews.to_csv(\"C:/Users/MY LENOVO/Desktop/Amazon_product_recommendation_system/dfReviews.csv\")"
   ]
  },
  {
   "cell_type": "code",
   "execution_count": null,
   "metadata": {},
   "outputs": [],
   "source": [
    "X = np.array(dfReviews)\n",
    " # create train and test\n",
    "tpercent = 0.9\n",
    "tsize = int(np.floor(tpercent * len(dfReviews)))\n",
    "dfReviews_train = X[:tsize]\n",
    "dfReviews_test = X[tsize:]\n",
    "#len of train and test\n",
    "lentrain = len(dfReviews_train)\n",
    "lentest = len(dfReviews_test)"
   ]
  },
  {
   "cell_type": "code",
   "execution_count": null,
   "metadata": {},
   "outputs": [],
   "source": [
    "print(lentrain)\n",
    "print(lentest)\n",
    "neighbor = NearestNeighbors(n_neighbors=3, algorithm='ball_tree').fit(dfReviews_train)\n",
    "distances, indices = neighbor.kneighbors(dfReviews_train)"
   ]
  },
  {
   "cell_type": "code",
   "execution_count": null,
   "metadata": {},
   "outputs": [],
   "source": [
    "for i in range(lentest):\n",
    "    a = neighbor.kneighbors([dfReviews_test[i]])\n",
    "    related_product_list = a[1]\n",
    "\n",
    "    first_related_product = [item[0] for item in related_product_list]\n",
    "    first_related_product = str(first_related_product).strip('[]')\n",
    "    first_related_product = int(first_related_product)\n",
    "    second_related_product = [item[1] for item in related_product_list]\n",
    "    second_related_product = str(second_related_product).strip('[]')\n",
    "    second_related_product = int(second_related_product)\n",
    "    \n",
    "    print (\"Based on product reviews, for \", df3[\"ProductId\"][lentrain + i] ,\" average rating is \",df3[\"Score\"][lentrain + i])\n",
    "    print (\"The first similar product is \", df3[\"ProductId\"][first_related_product] ,\" average rating is \",df3[\"Score\"][first_related_product])\n",
    "    print (\"The second similar product is \", df3[\"ProductId\"][second_related_product] ,\" average rating is \",df3[\"Score\"][second_related_product])\n",
    "    print (\"-----------------------------------------------------------\")\n",
    "df5_train_target = df3[\"overallScore\"][:lentrain]\n",
    "df5_test_target = df3[\"overallScore\"][lentrain:lentrain+lentest]\n",
    "df5_train_target = df5_train_target.astype(int)\n",
    "df5_test_target = df5_test_target.astype(int)"
   ]
  },
  {
   "cell_type": "code",
   "execution_count": null,
   "metadata": {},
   "outputs": [],
   "source": [
    "n_neighbors = 3\n",
    "knnclf = neighbors.KNeighborsClassifier(n_neighbors, weights='distance')\n",
    "knnclf.fit(dfReviews_train, df5_train_target)\n",
    "knnpreds_test = knnclf.predict(dfReviews_test)"
   ]
  },
  {
   "cell_type": "code",
   "execution_count": null,
   "metadata": {},
   "outputs": [],
   "source": [
    "print(classification_report(df5_test_target, knnpreds_test)) \n",
    "print (accuracy_score(df5_test_target, knnpreds_test))"
   ]
  },
  {
   "cell_type": "code",
   "execution_count": null,
   "metadata": {},
   "outputs": [],
   "source": [
    "print(mean_squared_error(df5_test_target, knnpreds_test)) "
   ]
  },
  {
   "cell_type": "code",
   "execution_count": null,
   "metadata": {},
   "outputs": [],
   "source": [
    "knn.score(df5_test_target, knnpreds_test)\n",
    "acc = accuracy_score(df5_test_target, knnpreds_test)"
   ]
  }
 ],
 "metadata": {
  "kernelspec": {
   "display_name": "Python 3",
   "language": "python",
   "name": "python3"
  },
  "language_info": {
   "codemirror_mode": {
    "name": "ipython",
    "version": 3
   },
   "file_extension": ".py",
   "mimetype": "text/x-python",
   "name": "python",
   "nbconvert_exporter": "python",
   "pygments_lexer": "ipython3",
   "version": "3.7.7"
  }
 },
 "nbformat": 4,
 "nbformat_minor": 4
}
